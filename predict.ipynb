{
 "cells": [
  {
   "cell_type": "code",
   "execution_count": 2,
   "metadata": {
    "collapsed": true,
    "pycharm": {
     "is_executing": false
    }
   },
   "outputs": [
    {
     "name": "stdout",
     "text": [
      "Model: \"model_1\"\n",
      "__________________________________________________________________________________________________\n",
      "Layer (type)                    Output Shape         Param #     Connected to                     \n",
      "==================================================================================================\n",
      "input_2 (InputLayer)            [(None, 350, 350, 3) 0                                            \n",
      "__________________________________________________________________________________________________\n",
      "conv1 (Conv2D)                  (None, 175, 175, 64) 1792        input_2[0][0]                    \n",
      "__________________________________________________________________________________________________\n",
      "maxpool1 (MaxPooling2D)         (None, 87, 87, 64)   0           conv1[0][0]                      \n",
      "__________________________________________________________________________________________________\n",
      "fire2_squeeze (Conv2D)          (None, 87, 87, 16)   1040        maxpool1[0][0]                   \n",
      "__________________________________________________________________________________________________\n",
      "fire2_expand_1x1 (Conv2D)       (None, 87, 87, 64)   1088        fire2_squeeze[0][0]              \n",
      "__________________________________________________________________________________________________\n",
      "fire2_expand_3x3 (Conv2D)       (None, 87, 87, 64)   9280        fire2_squeeze[0][0]              \n",
      "__________________________________________________________________________________________________\n",
      "fire2_concatenate (Concatenate) (None, 87, 87, 128)  0           fire2_expand_1x1[0][0]           \n",
      "                                                                 fire2_expand_3x3[0][0]           \n",
      "__________________________________________________________________________________________________\n",
      "fire3_squeeze (Conv2D)          (None, 87, 87, 16)   2064        fire2_concatenate[0][0]          \n",
      "__________________________________________________________________________________________________\n",
      "fire3_expand_1x1 (Conv2D)       (None, 87, 87, 64)   1088        fire3_squeeze[0][0]              \n",
      "__________________________________________________________________________________________________\n",
      "fire3_expand_3x3 (Conv2D)       (None, 87, 87, 64)   9280        fire3_squeeze[0][0]              \n",
      "__________________________________________________________________________________________________\n",
      "fire3_concatenate (Concatenate) (None, 87, 87, 128)  0           fire3_expand_1x1[0][0]           \n",
      "                                                                 fire3_expand_3x3[0][0]           \n",
      "__________________________________________________________________________________________________\n",
      "maxpool3 (MaxPooling2D)         (None, 43, 43, 128)  0           fire3_concatenate[0][0]          \n",
      "__________________________________________________________________________________________________\n",
      "fire4_squeeze (Conv2D)          (None, 43, 43, 32)   4128        maxpool3[0][0]                   \n",
      "__________________________________________________________________________________________________\n",
      "fire4_expand_1x1 (Conv2D)       (None, 43, 43, 128)  4224        fire4_squeeze[0][0]              \n",
      "__________________________________________________________________________________________________\n",
      "fire4_expand_3x3 (Conv2D)       (None, 43, 43, 128)  36992       fire4_squeeze[0][0]              \n",
      "__________________________________________________________________________________________________\n",
      "fire4_concatenate (Concatenate) (None, 43, 43, 256)  0           fire4_expand_1x1[0][0]           \n",
      "                                                                 fire4_expand_3x3[0][0]           \n",
      "__________________________________________________________________________________________________\n",
      "fire5_squeeze (Conv2D)          (None, 43, 43, 32)   8224        fire4_concatenate[0][0]          \n",
      "__________________________________________________________________________________________________\n",
      "fire5_expand_1x1 (Conv2D)       (None, 43, 43, 128)  4224        fire5_squeeze[0][0]              \n",
      "__________________________________________________________________________________________________\n",
      "fire5_expand_3x3 (Conv2D)       (None, 43, 43, 128)  36992       fire5_squeeze[0][0]              \n",
      "__________________________________________________________________________________________________\n",
      "fire5_concatenate (Concatenate) (None, 43, 43, 256)  0           fire5_expand_1x1[0][0]           \n",
      "                                                                 fire5_expand_3x3[0][0]           \n",
      "__________________________________________________________________________________________________\n",
      "maxpool5 (MaxPooling2D)         (None, 21, 21, 256)  0           fire5_concatenate[0][0]          \n",
      "__________________________________________________________________________________________________\n",
      "fire6_squeeze (Conv2D)          (None, 21, 21, 48)   12336       maxpool5[0][0]                   \n",
      "__________________________________________________________________________________________________\n",
      "fire6_expand_1x1 (Conv2D)       (None, 21, 21, 192)  9408        fire6_squeeze[0][0]              \n",
      "__________________________________________________________________________________________________\n",
      "fire6_expand_3x3 (Conv2D)       (None, 21, 21, 192)  83136       fire6_squeeze[0][0]              \n",
      "__________________________________________________________________________________________________\n",
      "fire6_concatenate (Concatenate) (None, 21, 21, 384)  0           fire6_expand_1x1[0][0]           \n",
      "                                                                 fire6_expand_3x3[0][0]           \n",
      "__________________________________________________________________________________________________\n",
      "fire7_squeeze (Conv2D)          (None, 21, 21, 48)   18480       fire6_concatenate[0][0]          \n",
      "__________________________________________________________________________________________________\n",
      "fire7_expand_1x1 (Conv2D)       (None, 21, 21, 192)  9408        fire7_squeeze[0][0]              \n",
      "__________________________________________________________________________________________________\n",
      "fire7_expand_3x3 (Conv2D)       (None, 21, 21, 192)  83136       fire7_squeeze[0][0]              \n",
      "__________________________________________________________________________________________________\n",
      "fire7_concatenate (Concatenate) (None, 21, 21, 384)  0           fire7_expand_1x1[0][0]           \n",
      "                                                                 fire7_expand_3x3[0][0]           \n",
      "__________________________________________________________________________________________________\n",
      "fire8_squeeze (Conv2D)          (None, 21, 21, 64)   24640       fire7_concatenate[0][0]          \n",
      "__________________________________________________________________________________________________\n",
      "fire8_expand_1x1 (Conv2D)       (None, 21, 21, 256)  16640       fire8_squeeze[0][0]              \n",
      "__________________________________________________________________________________________________\n",
      "fire8_expand_3x3 (Conv2D)       (None, 21, 21, 256)  147712      fire8_squeeze[0][0]              \n",
      "__________________________________________________________________________________________________\n",
      "fire8_concatenate (Concatenate) (None, 21, 21, 512)  0           fire8_expand_1x1[0][0]           \n",
      "                                                                 fire8_expand_3x3[0][0]           \n",
      "__________________________________________________________________________________________________\n",
      "fire9_squeeze (Conv2D)          (None, 21, 21, 64)   32832       fire8_concatenate[0][0]          \n",
      "__________________________________________________________________________________________________\n",
      "fire9_expand_1x1 (Conv2D)       (None, 21, 21, 256)  16640       fire9_squeeze[0][0]              \n",
      "__________________________________________________________________________________________________\n",
      "fire9_expand_3x3 (Conv2D)       (None, 21, 21, 256)  147712      fire9_squeeze[0][0]              \n",
      "__________________________________________________________________________________________________\n",
      "fire9_concatenate (Concatenate) (None, 21, 21, 512)  0           fire9_expand_1x1[0][0]           \n",
      "                                                                 fire9_expand_3x3[0][0]           \n",
      "__________________________________________________________________________________________________\n",
      "conv10 (Conv2D)                 (None, 21, 21, 9)    4617        fire9_concatenate[0][0]          \n",
      "__________________________________________________________________________________________________\n",
      "avgpool10 (GlobalAveragePooling (None, 9)            0           conv10[0][0]                     \n",
      "__________________________________________________________________________________________________\n",
      "softmax (Activation)            (None, 9)            0           avgpool10[0][0]                  \n",
      "==================================================================================================\n",
      "Total params: 727,113\n",
      "Trainable params: 727,113\n",
      "Non-trainable params: 0\n",
      "__________________________________________________________________________________________________\n",
      "Found 171 images belonging to 9 classes.\n",
      "18/18 [==============================] - 20s 1s/step\b\b\b\b\b\b\b\b\b\b\b\b\b\b\b\b\b\b\b\b\b\b\b\b\b\b\b\b\b\b\b\b\b\b\b\b\b\b\b\b\b\b\b\b\b\b\b\b\b\b\b\b\b\b\b\b\b\b\b\b\b\b\b\b\b\b\b\b\b\b\b\b\b\b\b\b\b\b\b\b\b\b\b\b\b\b\b\b\b\b\b\b\b\b\b\b\b\b\b\b\b\b\b\b\b\b\b\b\b\b\b\b\b\b\b\b\b\b\b\b\b\b\b\b\b\b\b\b\b\b\b\b\b\b\b\b\b\b\b\b\b\b\b\b\b\b\b\b\b\b\b\b\b\b\b\b\b\b\b\b\b\b\b\b\b\b\b\b\b\b\b\b\b\b\b\b\b\b\b\b\b\b\b\b\b\b\b\b\b\b\b\b\b\b\b\b\b\b\b\b\b\b\b\b\b\b\b\b\b\b\b\b\b\b\b\b\b\b\b\b\b\b\b\b\b\b\b\b\b\b\b\b\b\b\b\b\b\b\b\b\b\b\b\b\b\b\b\b\b\b\b\b\b\b\b\b\b\b\b\b\b\b\b\b\b\b\b\b\b\b\b\b\b\b\b\b\b\b\b\b\b\b\b\b\b\b\b\b\b\b\b\b\b\b\b\b\b\b\b\b\b\b\b\b\b\b\b\b\b\b\b\b\b\b\b\b\b\b\b\b\b\b\b\b\b\b\b\b\b\b\b\b\b\b\b\b\b\b\b\b\b\b\b\b\b\b\b\b\b\b\b\b\b\b\b\b\b\b\b\b\b\b\b\b\b\b\b\b\b\b\b\b\b\b\b\b\b\b\b\b\b\b\b\b\b\b\b\b\b\b\b\b\b\b\b\b\b\b\b\b\b\b\b\b\b\b\b\b\b\b\b\b\b\b\b\b\b\b\b\b\b\b\b\b\b\b\b\b\b\b\b\b\b\b\b\b\b\b\b\b\b\b\b\b\b\b\b\b\b\b\b\b\b\b\b\b\b\b\b\b\b\b\b\b\b\b\b\b\b\b\b\b\b\b\b\b\b\b\b\b\b\b\b\b\b\b\b\b\b\b\b\b\b\b\b\b\b\b\b\b\b\b\b\b\b\b\b\b\b\b\b\b\b\b\b\b\b\b\b\b\b\b\b\b\b\b\b\b\b\b\b\b\b\b\b\b\b\b\b\b\b\b\b\b\b\b\b\b\b\b\b\b\b\b\b\b\b\b\b\b\b\b\b\b\b\b\b\b\b\b\b\b\b\b\b\b\b\b\b\b\b\b\b\b\b\b\b\b\b\b\b\b\b\b\b\b\b\b\b\b\b\b\b\b\b\b\b\b\b\b\b\b\b\b\b\b\b\b\b\b\b\b\b\b\b\b\b\b\b\b\b\b\b\b\b\b\b\b\b\b\b\b\b\b\b\b\b\b\b\b\b\b\b\b\b\b\b\b\b\b\b\b\b\b\b\b\b\b\b\b\b\b\b\b\b\b\b\b\b\b\b\b\b\b\b\b\b\b\b\b\b\b\b\b\b\b\b\b\b\b\b\b\b\b\b\b\b\b\b\b\b\b\b\b\b\b\b\b\b\b\b\b\b\b\b\b\b\b\b\b\b\b\b\b\b\b\b\b\b\b\b\b\b\b\b\b\b\b\b\b\b\b\b\b\b\b\b\b\b\b\b\b\b\b\b\b\b\b\b\b\b\b\b\b\b\b\b\b\b\b\b\b\b\b\b\b\b\b\b\b\b\b\b\b\b\b\b\b\b\b\b\b\b\b\b\b\b\b\b\b\b\b\b\b\b\b\b\b\b\b\b\b\b\n",
      "[[1.11110445e-07 4.07609500e-14 9.05481821e-16 ... 6.02909131e-06\n",
      "  9.65473831e-01 1.73444120e-18]\n",
      " [5.10134175e-02 1.60944298e-01 7.87589908e-01 ... 1.64408334e-06\n",
      "  1.69070027e-36 4.50734806e-04]\n",
      " [7.08673159e-17 4.35963106e-11 3.61514907e-08 ... 1.95523937e-31\n",
      "  0.00000000e+00 1.00000000e+00]\n",
      " ...\n",
      " [2.66241059e-02 7.24410313e-07 5.28860724e-08 ... 3.41693580e-01\n",
      "  1.80242296e-05 7.15417439e-12]\n",
      " [2.68607233e-02 1.08542224e-06 8.36531342e-08 ... 4.35015947e-01\n",
      "  2.47281287e-06 5.92438728e-12]\n",
      " [9.35313404e-01 2.05731373e-02 2.01185457e-02 ... 2.36761589e-02\n",
      "  1.01568055e-21 1.45652371e-06]]\n"
     ],
     "output_type": "stream"
    }
   ],
   "source": [
    "\n",
    "from tensorflow.keras.models import load_model\n",
    "from tensorflow.keras.preprocessing import image\n",
    "from tensorflow.keras.preprocessing.image import ImageDataGenerator\n",
    "import numpy as np\n",
    "import os\n",
    "\n",
    "REV_CLASS_MAP = {\n",
    "\n",
    "\n",
    "    0: \"nas1802-3-6\",\n",
    "    1: \"nas1802-3-7\",\n",
    "\n",
    "\n",
    "\n",
    "   # 0: \"m59557-16\",\n",
    "    #1: \"m59557-20\",\n",
    "    #2: \"nas1802-3-7\",\n",
    "    #3: \"nas1802-3-9\",\n",
    "    #4: \"nas6305-10\",\n",
    "    #5: \"v647p23b\",\n",
    "\n",
    "}\n",
    "\n",
    "def mapper(val):\n",
    "    return REV_CLASS_MAP[val]\n",
    "\n",
    "model = load_model(\"models/image_data_blue_light_split_sq350_e120_tb40_vb40_aug-hor-rotran20-briran0_8;1_2).h5\")\n",
    "\n",
    "# image folder\n",
    "folder_path = 'dataset/image_data_blue_light_split/test/'\n",
    "roi_square_size = 350\n",
    "test_batch_size = 10\n",
    "\n",
    "test_datagen = ImageDataGenerator()\n",
    "\n",
    "test_it = test_datagen.flow_from_directory(\n",
    "    os.path.abspath(folder_path ),\n",
    "    target_size=(roi_square_size, roi_square_size),\n",
    "    class_mode='categorical',\n",
    "    batch_size=test_batch_size\n",
    ")\n",
    "\n",
    "\n",
    "# stack up images list to pass for prediction\n",
    "# classes = model.predict(images, batch_size=1)\n",
    "# loss, acc = model.evaluate(test_it, verbose=2)\n",
    "prediction = model.predict(test_it, verbose=1)\n",
    "type(prediction)\n",
    "print(prediction)\n",
    "# print(classes)\n"
   ]
  },
  {
   "cell_type": "code",
   "execution_count": 6,
   "outputs": [
    {
     "name": "stdout",
     "text": [
      "[[0.000 0.000 0.000 ... 0.000 0.965 0.000]\n",
      " [0.051 0.161 0.788 ... 0.000 0.000 0.000]\n",
      " [0.000 0.000 0.000 ... 0.000 0.000 1.000]\n",
      " ...\n",
      " [0.027 0.000 0.000 ... 0.342 0.000 0.000]\n",
      " [0.027 0.000 0.000 ... 0.435 0.000 0.000]\n",
      " [0.935 0.021 0.020 ... 0.024 0.000 0.000]]\n",
      "(171, 9)\n"
     ],
     "output_type": "stream"
    }
   ],
   "source": [
    "np.set_printoptions(formatter={ 'float':lambda x: \"{0:0.3f}\".format(x)})\n",
    "print(prediction)\n",
    "print(prediction.shape)"
   ],
   "metadata": {
    "collapsed": false,
    "pycharm": {
     "name": "#%%\n",
     "is_executing": false
    }
   }
  },
  {
   "cell_type": "code",
   "execution_count": null,
   "outputs": [],
   "source": [
    "\n"
   ],
   "metadata": {
    "collapsed": false,
    "pycharm": {
     "name": "#%%\n"
    }
   }
  }
 ],
 "metadata": {
  "kernelspec": {
   "display_name": "Python 3",
   "language": "python",
   "name": "python3"
  },
  "language_info": {
   "codemirror_mode": {
    "name": "ipython",
    "version": 2
   },
   "file_extension": ".py",
   "mimetype": "text/x-python",
   "name": "python",
   "nbconvert_exporter": "python",
   "pygments_lexer": "ipython2",
   "version": "2.7.6"
  },
  "pycharm": {
   "stem_cell": {
    "cell_type": "raw",
    "source": [],
    "metadata": {
     "collapsed": false
    }
   }
  }
 },
 "nbformat": 4,
 "nbformat_minor": 0
}