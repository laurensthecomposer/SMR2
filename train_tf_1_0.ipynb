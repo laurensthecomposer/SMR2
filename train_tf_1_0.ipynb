{
  "nbformat": 4,
  "nbformat_minor": 0,
  "metadata": {
    "colab": {
      "name": "train.ipynb",
      "provenance": [],
      "collapsed_sections": [],
      "include_colab_link": true
    },
    "kernelspec": {
      "name": "python3",
      "display_name": "Python 3"
    },
    "accelerator": "GPU"
  },
  "cells": [
    {
      "cell_type": "markdown",
      "metadata": {
        "id": "view-in-github",
        "colab_type": "text"
      },
      "source": [
        "<a href=\"https://colab.research.google.com/github/laurensg420/SMR2/blob/master/train_tf_1_0.ipynb\" target=\"_parent\"><img src=\"https://colab.research.google.com/assets/colab-badge.svg\" alt=\"Open In Colab\"/></a>"
      ]
    },
    {
      "cell_type": "markdown",
      "metadata": {
        "id": "0Tc9O5ypPjOP",
        "colab_type": "text"
      },
      "source": [
        "Train with GPU:"
      ]
    },
    {
      "cell_type": "code",
      "metadata": {
        "id": "fs3MhwPvm_YC",
        "colab_type": "code",
        "outputId": "a379c981-5234-4f1c-fdd9-9e3c35094048",
        "colab": {
          "base_uri": "https://localhost:8080/",
          "height": 51
        }
      },
      "source": [
        "import os, sys, math\n",
        "import numpy as np\n",
        "if 'google.colab' in sys.modules: # Colab-only Tensorflow version selector\n",
        "  %tensorflow_version 1.x\n",
        "import tensorflow as tf\n",
        "print(\"Tensorflow version \" + tf.__version__)\n",
        "\n",
        "device_name = tf.test.gpu_device_name()\n",
        "if device_name != '/device:GPU:0':\n",
        "  raise SystemError('GPU device not found')\n",
        "print('Found GPU at: {}'.format(device_name))\n"
      ],
      "execution_count": 0,
      "outputs": [
        {
          "output_type": "stream",
          "text": [
            "Tensorflow version 1.15.0\n",
            "Found GPU at: /device:GPU:0\n"
          ],
          "name": "stdout"
        }
      ]
    },
    {
      "cell_type": "code",
      "metadata": {
        "id": "Owo4TnYDnJW2",
        "colab_type": "code",
        "outputId": "26d7ee9c-ca85-4224-c2dc-2d2750ea544f",
        "colab": {
          "base_uri": "https://localhost:8080/",
          "height": 190
        }
      },
      "source": [
        "%tensorflow_version 1.x\n",
        "import tensorflow as tf\n",
        "import timeit\n",
        "\n",
        "device_name = tf.test.gpu_device_name()\n",
        "if device_name != '/device:GPU:0':\n",
        "  print(\n",
        "      '\\n\\nThis error most likely means that this notebook is not '\n",
        "      'configured to use a GPU.  Change this in Notebook Settings via the '\n",
        "      'command palette (cmd/ctrl-shift-P) or the Edit menu.\\n\\n')\n",
        "  raise SystemError('GPU device not found')\n",
        "\n",
        "def cpu():\n",
        "  with tf.device('/cpu:0'):\n",
        "    random_image_cpu = tf.random.normal((100, 100, 100, 3))\n",
        "    net_cpu = tf.keras.layers.Conv2D(32, 7)(random_image_cpu)\n",
        "    return tf.math.reduce_sum(net_cpu)\n",
        "\n",
        "def gpu():\n",
        "  with tf.device('/device:GPU:0'):\n",
        "    random_image_gpu = tf.random.normal((100, 100, 100, 3))\n",
        "    net_gpu = tf.keras.layers.Conv2D(32, 7)(random_image_gpu)\n",
        "    return tf.math.reduce_sum(net_gpu)\n",
        "  \n",
        "# We run each op once to warm up; see: https://stackoverflow.com/a/45067900\n",
        "cpu()\n",
        "gpu()\n",
        "\n",
        "# Run the op several times.\n",
        "print('Time (s) to convolve 32x7x7x3 filter over random 100x100x100x3 images '\n",
        "      '(batch x height x width x channel). Sum of ten runs.')\n",
        "print('CPU (s):')\n",
        "cpu_time = timeit.timeit('cpu()', number=10, setup=\"from __main__ import cpu\")\n",
        "print(cpu_time)\n",
        "print('GPU (s):')\n",
        "gpu_time = timeit.timeit('gpu()', number=10, setup=\"from __main__ import gpu\")\n",
        "print(gpu_time)\n",
        "print('GPU speedup over CPU: {}x'.format(int(cpu_time/gpu_time)))"
      ],
      "execution_count": 0,
      "outputs": [
        {
          "output_type": "stream",
          "text": [
            "WARNING:tensorflow:From /usr/local/lib/python3.6/dist-packages/tensorflow_core/python/ops/resource_variable_ops.py:1630: calling BaseResourceVariable.__init__ (from tensorflow.python.ops.resource_variable_ops) with constraint is deprecated and will be removed in a future version.\n",
            "Instructions for updating:\n",
            "If using Keras pass *_constraint arguments to layers.\n",
            "Time (s) to convolve 32x7x7x3 filter over random 100x100x100x3 images (batch x height x width x channel). Sum of ten runs.\n",
            "CPU (s):\n",
            "0.16974323099999822\n",
            "GPU (s):\n",
            "0.1652511309999909\n",
            "GPU speedup over CPU: 1x\n"
          ],
          "name": "stdout"
        }
      ]
    },
    {
      "cell_type": "code",
      "metadata": {
        "id": "4X-9O20WnNeS",
        "colab_type": "code",
        "outputId": "1db126af-7586-473a-ff07-6ce49bb6e99e",
        "colab": {
          "base_uri": "https://localhost:8080/",
          "height": 122
        }
      },
      "source": [
        "from google.colab import drive\n",
        "drive.mount('/content/drive')\n",
        "import os\n",
        "\n",
        "base_path = '/content/drive/My Drive/ML Mofos SMR/colab_files/'"
      ],
      "execution_count": 0,
      "outputs": [
        {
          "output_type": "stream",
          "text": [
            "Go to this URL in a browser: https://accounts.google.com/o/oauth2/auth?client_id=947318989803-6bn6qk8qdgf4n4g3pfee6491hc0brc4i.apps.googleusercontent.com&redirect_uri=urn%3aietf%3awg%3aoauth%3a2.0%3aoob&response_type=code&scope=email%20https%3a%2f%2fwww.googleapis.com%2fauth%2fdocs.test%20https%3a%2f%2fwww.googleapis.com%2fauth%2fdrive%20https%3a%2f%2fwww.googleapis.com%2fauth%2fdrive.photos.readonly%20https%3a%2f%2fwww.googleapis.com%2fauth%2fpeopleapi.readonly\n",
            "\n",
            "Enter your authorization code:\n",
            "··········\n",
            "Mounted at /content/drive\n"
          ],
          "name": "stdout"
        }
      ]
    },
    {
      "cell_type": "code",
      "metadata": {
        "id": "207XpnPswrMk",
        "colab_type": "code",
        "colab": {}
      },
      "source": [
        ""
      ],
      "execution_count": 0,
      "outputs": []
    },
    {
      "cell_type": "code",
      "metadata": {
        "id": "F7oBzeQUQ4z8",
        "colab_type": "code",
        "outputId": "2aaafc72-6bdc-42fa-b22d-919ab6ad4dcc",
        "colab": {
          "base_uri": "https://localhost:8080/",
          "height": 34
        }
      },
      "source": [
        "# test writing file on Google Drive\n",
        "with open('/content/drive/My Drive/ML Mofos SMR/colab_files/test.txt', 'w+') as f:\n",
        "  f.write('Hello Google Drive!')\n",
        "!cat /content/drive/My\\ Drive/ML\\ Mofos\\ SMR/colab_files/test.txt"
      ],
      "execution_count": 0,
      "outputs": [
        {
          "output_type": "stream",
          "text": [
            "Hello Google Drive!"
          ],
          "name": "stdout"
        }
      ]
    },
    {
      "cell_type": "code",
      "metadata": {
        "id": "0FC19P9LdPur",
        "colab_type": "code",
        "outputId": "fef2d725-8117-4af0-edbe-9f07db0490ce",
        "colab": {
          "base_uri": "https://localhost:8080/",
          "height": 272
        }
      },
      "source": [
        "!pip install Keras==2.1.5\n",
        "import keras\n",
        "keras.__version__\n",
        "!pip install keras_squeezenet Keras-Applications==1.0.8 Keras-Preprocessing==1.0.9 -q"
      ],
      "execution_count": 0,
      "outputs": [
        {
          "output_type": "stream",
          "text": [
            "Collecting Keras==2.1.5\n",
            "\u001b[?25l  Downloading https://files.pythonhosted.org/packages/ba/65/e4aff762b8696ec0626a6654b1e73b396fcc8b7cc6b98d78a1bc53b85b48/Keras-2.1.5-py2.py3-none-any.whl (334kB)\n",
            "\r\u001b[K     |█                               | 10kB 17.5MB/s eta 0:00:01\r\u001b[K     |██                              | 20kB 2.1MB/s eta 0:00:01\r\u001b[K     |███                             | 30kB 2.9MB/s eta 0:00:01\r\u001b[K     |████                            | 40kB 2.0MB/s eta 0:00:01\r\u001b[K     |█████                           | 51kB 2.4MB/s eta 0:00:01\r\u001b[K     |█████▉                          | 61kB 2.8MB/s eta 0:00:01\r\u001b[K     |██████▉                         | 71kB 3.0MB/s eta 0:00:01\r\u001b[K     |███████▉                        | 81kB 3.3MB/s eta 0:00:01\r\u001b[K     |████████▉                       | 92kB 3.6MB/s eta 0:00:01\r\u001b[K     |█████████▉                      | 102kB 3.3MB/s eta 0:00:01\r\u001b[K     |██████████▊                     | 112kB 3.3MB/s eta 0:00:01\r\u001b[K     |███████████▊                    | 122kB 3.3MB/s eta 0:00:01\r\u001b[K     |████████████▊                   | 133kB 3.3MB/s eta 0:00:01\r\u001b[K     |█████████████▊                  | 143kB 3.3MB/s eta 0:00:01\r\u001b[K     |██████████████▊                 | 153kB 3.3MB/s eta 0:00:01\r\u001b[K     |███████████████▋                | 163kB 3.3MB/s eta 0:00:01\r\u001b[K     |████████████████▋               | 174kB 3.3MB/s eta 0:00:01\r\u001b[K     |█████████████████▋              | 184kB 3.3MB/s eta 0:00:01\r\u001b[K     |██████████████████▋             | 194kB 3.3MB/s eta 0:00:01\r\u001b[K     |███████████████████▋            | 204kB 3.3MB/s eta 0:00:01\r\u001b[K     |████████████████████▌           | 215kB 3.3MB/s eta 0:00:01\r\u001b[K     |█████████████████████▌          | 225kB 3.3MB/s eta 0:00:01\r\u001b[K     |██████████████████████▌         | 235kB 3.3MB/s eta 0:00:01\r\u001b[K     |███████████████████████▌        | 245kB 3.3MB/s eta 0:00:01\r\u001b[K     |████████████████████████▌       | 256kB 3.3MB/s eta 0:00:01\r\u001b[K     |█████████████████████████▍      | 266kB 3.3MB/s eta 0:00:01\r\u001b[K     |██████████████████████████▍     | 276kB 3.3MB/s eta 0:00:01\r\u001b[K     |███████████████████████████▍    | 286kB 3.3MB/s eta 0:00:01\r\u001b[K     |████████████████████████████▍   | 296kB 3.3MB/s eta 0:00:01\r\u001b[K     |█████████████████████████████▍  | 307kB 3.3MB/s eta 0:00:01\r\u001b[K     |██████████████████████████████▎ | 317kB 3.3MB/s eta 0:00:01\r\u001b[K     |███████████████████████████████▎| 327kB 3.3MB/s eta 0:00:01\r\u001b[K     |████████████████████████████████| 337kB 3.3MB/s \n",
            "\u001b[?25hRequirement already satisfied: scipy>=0.14 in /usr/local/lib/python3.6/dist-packages (from Keras==2.1.5) (1.4.1)\n",
            "Requirement already satisfied: pyyaml in /usr/local/lib/python3.6/dist-packages (from Keras==2.1.5) (3.13)\n",
            "Requirement already satisfied: numpy>=1.9.1 in /usr/local/lib/python3.6/dist-packages (from Keras==2.1.5) (1.17.5)\n",
            "Requirement already satisfied: six>=1.9.0 in /usr/local/lib/python3.6/dist-packages (from Keras==2.1.5) (1.12.0)\n",
            "Installing collected packages: Keras\n",
            "  Found existing installation: Keras 2.2.5\n",
            "    Uninstalling Keras-2.2.5:\n",
            "      Successfully uninstalled Keras-2.2.5\n",
            "Successfully installed Keras-2.1.5\n"
          ],
          "name": "stdout"
        },
        {
          "output_type": "stream",
          "text": [
            "Using TensorFlow backend.\n"
          ],
          "name": "stderr"
        },
        {
          "output_type": "stream",
          "text": [
            "\u001b[?25l\r\u001b[K     |█████▌                          | 10kB 36.2MB/s eta 0:00:01\r\u001b[K     |███████████                     | 20kB 2.1MB/s eta 0:00:01\r\u001b[K     |████████████████▋               | 30kB 3.1MB/s eta 0:00:01\r\u001b[K     |██████████████████████▏         | 40kB 2.1MB/s eta 0:00:01\r\u001b[K     |███████████████████████████▊    | 51kB 2.6MB/s eta 0:00:01\r\u001b[K     |████████████████████████████████| 61kB 2.5MB/s \n",
            "\u001b[?25h  Building wheel for keras-squeezenet (setup.py) ... \u001b[?25l\u001b[?25hdone\n"
          ],
          "name": "stdout"
        }
      ]
    },
    {
      "cell_type": "code",
      "metadata": {
        "id": "7trM7Y6qqrzU",
        "colab_type": "code",
        "colab": {}
      },
      "source": [
        ""
      ],
      "execution_count": 0,
      "outputs": []
    },
    {
      "cell_type": "code",
      "metadata": {
        "id": "FCbJldOIQ92i",
        "colab_type": "code",
        "colab": {}
      },
      "source": [
        ""
      ],
      "execution_count": 0,
      "outputs": []
    },
    {
      "cell_type": "code",
      "metadata": {
        "id": "EM6R6JOxsdra",
        "colab_type": "code",
        "outputId": "08db0303-c6b0-4330-c59a-2a57a89a56c3",
        "colab": {
          "base_uri": "https://localhost:8080/",
          "height": 595
        }
      },
      "source": [
        "import cv2.cv2 as cv2\n",
        "import numpy as np\n",
        "from keras_squeezenet import SqueezeNet\n",
        "from keras.optimizers import Adam\n",
        "from keras.utils import np_utils\n",
        "from keras.layers import Activation, Dropout, Convolution2D, GlobalAveragePooling2D\n",
        "from keras.models import Sequential\n",
        "import os\n",
        "from keras.preprocessing.image import ImageDataGenerator\n",
        "from keras.callbacks import ModelCheckpoint, CSVLogger\n",
        "\n",
        "train_datagen = ImageDataGenerator(\n",
        "    # featurewise_center=False,\n",
        "    # samplewise_center=False,\n",
        "    # featurewise_std_normalization=False,\n",
        "    # samplewise_std_normalization=False,\n",
        "    # zca_whitening=False,\n",
        "    # zca_epsilon=1e-06,\n",
        "    # rotation_range=0,\n",
        "    # width_shift_range=0.0,\n",
        "    # height_shift_range=0.0,\n",
        "    brightness_range=(0.8,1.2), # doc on brightness_range = https://pillow.readthedocs.io/en/3.0.x/reference/ImageEnhance.html#PIL.ImageEnhance.Brightness\n",
        "    # shear_range=0.0,\n",
        "    # zoom_range=0.0,\n",
        "    # channel_shift_range=0.0,\n",
        "    # fill_mode='nearest',\n",
        "    # cval=0.0,\n",
        "    # rotation_range=20,\n",
        "    horizontal_flip=True,\n",
        "    # vertical_flip=False,\n",
        "    # rescale=None,\n",
        "    # preprocessing_function=None,\n",
        "    # data_format='channels_last',\n",
        "    # validation_split=0.0,\n",
        "    # interpolation_order=1,\n",
        "    # dtype='float32'\n",
        "    )\n",
        "\n",
        "# settings\n",
        "train_batch_size = 20\n",
        "val_batch_size = 20\n",
        "roi_square_size = 350\n",
        "epochs = 4\n",
        "\n",
        "\n",
        "# train_datagen = ImageDataGenerator(\n",
        "# rescale=1./255,\n",
        "# shear_range=0.2,\n",
        "# zoom_range=0.2,\n",
        "# horizontal_flip=True)\n",
        "\n",
        "test_datagen = ImageDataGenerator()\n",
        "train_it = train_datagen.flow_from_directory(\n",
        "    os.path.join( base_path,'dataset/image_data_blue_light_split/train' ),\n",
        "    target_size=(roi_square_size, roi_square_size),\n",
        "    class_mode='categorical',\n",
        "    batch_size=train_batch_size\n",
        ")\n",
        "\n",
        "val_it = test_datagen.flow_from_directory(\n",
        "    os.path.join( base_path,'dataset/image_data_blue_light_split/validate' ),\n",
        "    target_size=(roi_square_size, roi_square_size),\n",
        "    class_mode='categorical',\n",
        "    batch_size=val_batch_size\n",
        ")\n",
        "\n",
        "amount_classes = len( os.listdir( os.path.join( base_path, 'dataset/image_data_blue_light_split/train' ) ) )\n",
        "\n",
        "\n",
        "amount_train_images = train_it.samples\n",
        "amount_val_images = val_it.samples\n",
        "\n",
        "\n",
        "batches_in_dataset = (amount_train_images / train_batch_size)\n",
        "epochs = int( batches_in_dataset ) * 3\n",
        "\n",
        "model_name = os.path.join( base_path, 'models/image_data_blue_light_split'\\\n",
        "       + '_sq' + str(roi_square_size)\\\n",
        "       + '_e'  + str(epochs)\\\n",
        "       + '_tb' + str(train_batch_size)\\\n",
        "       + '_vb' + str(val_batch_size)\\\n",
        "       + '_aug-hor-rotran20-briran0_8;1_2)'\\\n",
        "       +'.h5')\n",
        "\n",
        "print( \"batches_in_dataset:\", batches_in_dataset)\n",
        "print( \"epochs:\", epochs )\n",
        "print( \"train_batch_size:\", train_batch_size)\n",
        "print( \"val_batch_size:\", val_batch_size )\n",
        "print( \"model_name:\", model_name)\n",
        "\n",
        "def get_model(amount_classes):\n",
        "    model = Sequential( [\n",
        "        # change model res\n",
        "        SqueezeNet( input_shape=(roi_square_size, roi_square_size, 3), include_top=False ),\n",
        "        Convolution2D( amount_classes, (1, 1), padding='valid' ),\n",
        "        Activation( 'relu' ),\n",
        "        GlobalAveragePooling2D(),\n",
        "        Activation( 'softmax' )\n",
        "    ] )\n",
        "    return model\n",
        "\n",
        "\n",
        "# define the model\n",
        "model = get_model( amount_classes )\n",
        "model.compile(\n",
        "    optimizer=Adam( lr=0.0001 ),\n",
        "    loss='categorical_crossentropy',\n",
        "    metrics=['acc']\n",
        ")  # lr = learning rate\n",
        "\n",
        "# save checkpoints after epochs\n",
        "filepath=os.path.join(base_path,\"weights-improvement-e{epoch:02d}-va{val_acc:.2f}.h5\")\n",
        "print(filepath)\n",
        "checkpoint = ModelCheckpoint(filepath, monitor='val_acc', verbose=1, save_best_only=False, mode='max', period=5)\n",
        "\n",
        "csv_logger = CSVLogger(model_name.split('.')[0]+'.csv')\n",
        "callbacks_list = [csv_logger]\n",
        "\n",
        "# start training\n",
        "# with tf.device('/device:GPU:0'):\n",
        "  # history = model.fit_generator( train_it, steps_per_epoch=2, validation_data=val_it,\n",
        "                                  # validation_steps=2, epochs=epochs, verbose=2, callbacks = callbacks_list)\n",
        "# model.fit_generator(train_it, steps_per_epoch=10, validation_data=val_it, validation_steps=1, epochs=epochs,\n",
        "# verbose=1)\n",
        "# print(model_name)\n",
        "# save the model for later use\n",
        "# model.save( model_name )\n",
        "# score = model.evaluate(np.array(data), np.array(labels))\n",
        "# print(score)"
      ],
      "execution_count": 0,
      "outputs": [
        {
          "output_type": "stream",
          "text": [
            "Found 490 images belonging to 9 classes.\n",
            "Found 167 images belonging to 9 classes.\n",
            "batches_in_dataset: 24.5\n",
            "epochs: 72\n",
            "train_batch_size: 20\n",
            "val_batch_size: 20\n",
            "model_name: /content/drive/My Drive/ML Mofos SMR/colab_files/models/image_data_blue_light_split_sq350_e72_tb20_vb20_aug-hor-rotran20-briran0_8;1_2).h5\n",
            "WARNING:tensorflow:From /usr/local/lib/python3.6/dist-packages/keras/backend/tensorflow_backend.py:68: The name tf.get_default_graph is deprecated. Please use tf.compat.v1.get_default_graph instead.\n",
            "\n",
            "WARNING:tensorflow:From /usr/local/lib/python3.6/dist-packages/keras/backend/tensorflow_backend.py:507: The name tf.placeholder is deprecated. Please use tf.compat.v1.placeholder instead.\n",
            "\n",
            "WARNING:tensorflow:From /usr/local/lib/python3.6/dist-packages/keras/backend/tensorflow_backend.py:3831: The name tf.random_uniform is deprecated. Please use tf.random.uniform instead.\n",
            "\n",
            "WARNING:tensorflow:From /usr/local/lib/python3.6/dist-packages/keras/backend/tensorflow_backend.py:3655: The name tf.nn.max_pool is deprecated. Please use tf.nn.max_pool2d instead.\n",
            "\n",
            "Downloading data from https://github.com/rcmalli/keras-squeezenet/releases/download/v1.0/squeezenet_weights_tf_dim_ordering_tf_kernels_notop.h5\n",
            "3039232/3032184 [==============================] - 0s 0us/step\n",
            "WARNING:tensorflow:From /usr/local/lib/python3.6/dist-packages/keras/backend/tensorflow_backend.py:167: The name tf.get_default_session is deprecated. Please use tf.compat.v1.get_default_session instead.\n",
            "\n",
            "WARNING:tensorflow:From /usr/local/lib/python3.6/dist-packages/keras/backend/tensorflow_backend.py:174: The name tf.ConfigProto is deprecated. Please use tf.compat.v1.ConfigProto instead.\n",
            "\n",
            "WARNING:tensorflow:From /usr/local/lib/python3.6/dist-packages/keras/backend/tensorflow_backend.py:179: The name tf.Session is deprecated. Please use tf.compat.v1.Session instead.\n",
            "\n",
            "WARNING:tensorflow:From /usr/local/lib/python3.6/dist-packages/keras/backend/tensorflow_backend.py:183: The name tf.global_variables is deprecated. Please use tf.compat.v1.global_variables instead.\n",
            "\n",
            "WARNING:tensorflow:From /usr/local/lib/python3.6/dist-packages/keras/backend/tensorflow_backend.py:192: The name tf.is_variable_initialized is deprecated. Please use tf.compat.v1.is_variable_initialized instead.\n",
            "\n",
            "WARNING:tensorflow:From /usr/local/lib/python3.6/dist-packages/keras/backend/tensorflow_backend.py:199: The name tf.variables_initializer is deprecated. Please use tf.compat.v1.variables_initializer instead.\n",
            "\n",
            "WARNING:tensorflow:From /usr/local/lib/python3.6/dist-packages/keras/optimizers.py:757: The name tf.train.Optimizer is deprecated. Please use tf.compat.v1.train.Optimizer instead.\n",
            "\n",
            "WARNING:tensorflow:From /usr/local/lib/python3.6/dist-packages/keras/backend/tensorflow_backend.py:3008: The name tf.log is deprecated. Please use tf.math.log instead.\n",
            "\n",
            "/content/drive/My Drive/ML Mofos SMR/colab_files/weights-improvement-e{epoch:02d}-va{val_acc:.2f}.h5\n"
          ],
          "name": "stdout"
        }
      ]
    },
    {
      "cell_type": "code",
      "metadata": {
        "id": "3Ah1156R3PVh",
        "colab_type": "code",
        "outputId": "e12876ae-c080-42fb-ac83-84f1ae219cbd",
        "colab": {
          "base_uri": "https://localhost:8080/",
          "height": 231
        }
      },
      "source": [
        "\n",
        "import pandas as pd\n",
        "df = pd.DataFrame(history.history)\n",
        "print(df.head())\n",
        "csv_path = model_name.split('.')[0]+'.csv'\n",
        "print(csv_path)\n",
        "df.to_csv(model_name.split('.')[0]+'.csv')"
      ],
      "execution_count": 0,
      "outputs": [
        {
          "output_type": "error",
          "ename": "NameError",
          "evalue": "ignored",
          "traceback": [
            "\u001b[0;31m---------------------------------------------------------------------------\u001b[0m",
            "\u001b[0;31mNameError\u001b[0m                                 Traceback (most recent call last)",
            "\u001b[0;32m<ipython-input-10-0f33dc51dc3d>\u001b[0m in \u001b[0;36m<module>\u001b[0;34m()\u001b[0m\n\u001b[1;32m      1\u001b[0m \u001b[0;34m\u001b[0m\u001b[0m\n\u001b[1;32m      2\u001b[0m \u001b[0;32mimport\u001b[0m \u001b[0mpandas\u001b[0m \u001b[0;32mas\u001b[0m \u001b[0mpd\u001b[0m\u001b[0;34m\u001b[0m\u001b[0;34m\u001b[0m\u001b[0m\n\u001b[0;32m----> 3\u001b[0;31m \u001b[0mdf\u001b[0m \u001b[0;34m=\u001b[0m \u001b[0mpd\u001b[0m\u001b[0;34m.\u001b[0m\u001b[0mDataFrame\u001b[0m\u001b[0;34m(\u001b[0m\u001b[0mhistory\u001b[0m\u001b[0;34m.\u001b[0m\u001b[0mhistory\u001b[0m\u001b[0;34m)\u001b[0m\u001b[0;34m\u001b[0m\u001b[0;34m\u001b[0m\u001b[0m\n\u001b[0m\u001b[1;32m      4\u001b[0m \u001b[0mprint\u001b[0m\u001b[0;34m(\u001b[0m\u001b[0mdf\u001b[0m\u001b[0;34m.\u001b[0m\u001b[0mhead\u001b[0m\u001b[0;34m(\u001b[0m\u001b[0;34m)\u001b[0m\u001b[0;34m)\u001b[0m\u001b[0;34m\u001b[0m\u001b[0;34m\u001b[0m\u001b[0m\n\u001b[1;32m      5\u001b[0m \u001b[0mcsv_path\u001b[0m \u001b[0;34m=\u001b[0m \u001b[0mmodel_name\u001b[0m\u001b[0;34m.\u001b[0m\u001b[0msplit\u001b[0m\u001b[0;34m(\u001b[0m\u001b[0;34m'.'\u001b[0m\u001b[0;34m)\u001b[0m\u001b[0;34m[\u001b[0m\u001b[0;36m0\u001b[0m\u001b[0;34m]\u001b[0m\u001b[0;34m+\u001b[0m\u001b[0;34m'.csv'\u001b[0m\u001b[0;34m\u001b[0m\u001b[0;34m\u001b[0m\u001b[0m\n",
            "\u001b[0;31mNameError\u001b[0m: name 'history' is not defined"
          ]
        }
      ]
    },
    {
      "cell_type": "code",
      "metadata": {
        "id": "7RAa_jQp6ZcT",
        "colab_type": "code",
        "outputId": "25def789-3836-4934-e370-b0ee4b6a2b69",
        "colab": {
          "base_uri": "https://localhost:8080/",
          "height": 1000
        }
      },
      "source": [
        "sq_model = SqueezeNet( input_shape=(roi_square_size, roi_square_size, 3), include_top=False )\n",
        "sq_model.summary()"
      ],
      "execution_count": 0,
      "outputs": [
        {
          "output_type": "stream",
          "text": [
            "__________________________________________________________________________________________________\n",
            "Layer (type)                    Output Shape         Param #     Connected to                     \n",
            "==================================================================================================\n",
            "input_2 (InputLayer)            (None, 350, 350, 3)  0                                            \n",
            "__________________________________________________________________________________________________\n",
            "conv1 (Conv2D)                  (None, 174, 174, 64) 1792        input_2[0][0]                    \n",
            "__________________________________________________________________________________________________\n",
            "relu_conv1 (Activation)         (None, 174, 174, 64) 0           conv1[0][0]                      \n",
            "__________________________________________________________________________________________________\n",
            "pool1 (MaxPooling2D)            (None, 86, 86, 64)   0           relu_conv1[0][0]                 \n",
            "__________________________________________________________________________________________________\n",
            "fire2/squeeze1x1 (Conv2D)       (None, 86, 86, 16)   1040        pool1[0][0]                      \n",
            "__________________________________________________________________________________________________\n",
            "fire2/relu_squeeze1x1 (Activati (None, 86, 86, 16)   0           fire2/squeeze1x1[0][0]           \n",
            "__________________________________________________________________________________________________\n",
            "fire2/expand1x1 (Conv2D)        (None, 86, 86, 64)   1088        fire2/relu_squeeze1x1[0][0]      \n",
            "__________________________________________________________________________________________________\n",
            "fire2/expand3x3 (Conv2D)        (None, 86, 86, 64)   9280        fire2/relu_squeeze1x1[0][0]      \n",
            "__________________________________________________________________________________________________\n",
            "fire2/relu_expand1x1 (Activatio (None, 86, 86, 64)   0           fire2/expand1x1[0][0]            \n",
            "__________________________________________________________________________________________________\n",
            "fire2/relu_expand3x3 (Activatio (None, 86, 86, 64)   0           fire2/expand3x3[0][0]            \n",
            "__________________________________________________________________________________________________\n",
            "fire2/concat (Concatenate)      (None, 86, 86, 128)  0           fire2/relu_expand1x1[0][0]       \n",
            "                                                                 fire2/relu_expand3x3[0][0]       \n",
            "__________________________________________________________________________________________________\n",
            "fire3/squeeze1x1 (Conv2D)       (None, 86, 86, 16)   2064        fire2/concat[0][0]               \n",
            "__________________________________________________________________________________________________\n",
            "fire3/relu_squeeze1x1 (Activati (None, 86, 86, 16)   0           fire3/squeeze1x1[0][0]           \n",
            "__________________________________________________________________________________________________\n",
            "fire3/expand1x1 (Conv2D)        (None, 86, 86, 64)   1088        fire3/relu_squeeze1x1[0][0]      \n",
            "__________________________________________________________________________________________________\n",
            "fire3/expand3x3 (Conv2D)        (None, 86, 86, 64)   9280        fire3/relu_squeeze1x1[0][0]      \n",
            "__________________________________________________________________________________________________\n",
            "fire3/relu_expand1x1 (Activatio (None, 86, 86, 64)   0           fire3/expand1x1[0][0]            \n",
            "__________________________________________________________________________________________________\n",
            "fire3/relu_expand3x3 (Activatio (None, 86, 86, 64)   0           fire3/expand3x3[0][0]            \n",
            "__________________________________________________________________________________________________\n",
            "fire3/concat (Concatenate)      (None, 86, 86, 128)  0           fire3/relu_expand1x1[0][0]       \n",
            "                                                                 fire3/relu_expand3x3[0][0]       \n",
            "__________________________________________________________________________________________________\n",
            "pool3 (MaxPooling2D)            (None, 42, 42, 128)  0           fire3/concat[0][0]               \n",
            "__________________________________________________________________________________________________\n",
            "fire4/squeeze1x1 (Conv2D)       (None, 42, 42, 32)   4128        pool3[0][0]                      \n",
            "__________________________________________________________________________________________________\n",
            "fire4/relu_squeeze1x1 (Activati (None, 42, 42, 32)   0           fire4/squeeze1x1[0][0]           \n",
            "__________________________________________________________________________________________________\n",
            "fire4/expand1x1 (Conv2D)        (None, 42, 42, 128)  4224        fire4/relu_squeeze1x1[0][0]      \n",
            "__________________________________________________________________________________________________\n",
            "fire4/expand3x3 (Conv2D)        (None, 42, 42, 128)  36992       fire4/relu_squeeze1x1[0][0]      \n",
            "__________________________________________________________________________________________________\n",
            "fire4/relu_expand1x1 (Activatio (None, 42, 42, 128)  0           fire4/expand1x1[0][0]            \n",
            "__________________________________________________________________________________________________\n",
            "fire4/relu_expand3x3 (Activatio (None, 42, 42, 128)  0           fire4/expand3x3[0][0]            \n",
            "__________________________________________________________________________________________________\n",
            "fire4/concat (Concatenate)      (None, 42, 42, 256)  0           fire4/relu_expand1x1[0][0]       \n",
            "                                                                 fire4/relu_expand3x3[0][0]       \n",
            "__________________________________________________________________________________________________\n",
            "fire5/squeeze1x1 (Conv2D)       (None, 42, 42, 32)   8224        fire4/concat[0][0]               \n",
            "__________________________________________________________________________________________________\n",
            "fire5/relu_squeeze1x1 (Activati (None, 42, 42, 32)   0           fire5/squeeze1x1[0][0]           \n",
            "__________________________________________________________________________________________________\n",
            "fire5/expand1x1 (Conv2D)        (None, 42, 42, 128)  4224        fire5/relu_squeeze1x1[0][0]      \n",
            "__________________________________________________________________________________________________\n",
            "fire5/expand3x3 (Conv2D)        (None, 42, 42, 128)  36992       fire5/relu_squeeze1x1[0][0]      \n",
            "__________________________________________________________________________________________________\n",
            "fire5/relu_expand1x1 (Activatio (None, 42, 42, 128)  0           fire5/expand1x1[0][0]            \n",
            "__________________________________________________________________________________________________\n",
            "fire5/relu_expand3x3 (Activatio (None, 42, 42, 128)  0           fire5/expand3x3[0][0]            \n",
            "__________________________________________________________________________________________________\n",
            "fire5/concat (Concatenate)      (None, 42, 42, 256)  0           fire5/relu_expand1x1[0][0]       \n",
            "                                                                 fire5/relu_expand3x3[0][0]       \n",
            "__________________________________________________________________________________________________\n",
            "pool5 (MaxPooling2D)            (None, 20, 20, 256)  0           fire5/concat[0][0]               \n",
            "__________________________________________________________________________________________________\n",
            "fire6/squeeze1x1 (Conv2D)       (None, 20, 20, 48)   12336       pool5[0][0]                      \n",
            "__________________________________________________________________________________________________\n",
            "fire6/relu_squeeze1x1 (Activati (None, 20, 20, 48)   0           fire6/squeeze1x1[0][0]           \n",
            "__________________________________________________________________________________________________\n",
            "fire6/expand1x1 (Conv2D)        (None, 20, 20, 192)  9408        fire6/relu_squeeze1x1[0][0]      \n",
            "__________________________________________________________________________________________________\n",
            "fire6/expand3x3 (Conv2D)        (None, 20, 20, 192)  83136       fire6/relu_squeeze1x1[0][0]      \n",
            "__________________________________________________________________________________________________\n",
            "fire6/relu_expand1x1 (Activatio (None, 20, 20, 192)  0           fire6/expand1x1[0][0]            \n",
            "__________________________________________________________________________________________________\n",
            "fire6/relu_expand3x3 (Activatio (None, 20, 20, 192)  0           fire6/expand3x3[0][0]            \n",
            "__________________________________________________________________________________________________\n",
            "fire6/concat (Concatenate)      (None, 20, 20, 384)  0           fire6/relu_expand1x1[0][0]       \n",
            "                                                                 fire6/relu_expand3x3[0][0]       \n",
            "__________________________________________________________________________________________________\n",
            "fire7/squeeze1x1 (Conv2D)       (None, 20, 20, 48)   18480       fire6/concat[0][0]               \n",
            "__________________________________________________________________________________________________\n",
            "fire7/relu_squeeze1x1 (Activati (None, 20, 20, 48)   0           fire7/squeeze1x1[0][0]           \n",
            "__________________________________________________________________________________________________\n",
            "fire7/expand1x1 (Conv2D)        (None, 20, 20, 192)  9408        fire7/relu_squeeze1x1[0][0]      \n",
            "__________________________________________________________________________________________________\n",
            "fire7/expand3x3 (Conv2D)        (None, 20, 20, 192)  83136       fire7/relu_squeeze1x1[0][0]      \n",
            "__________________________________________________________________________________________________\n",
            "fire7/relu_expand1x1 (Activatio (None, 20, 20, 192)  0           fire7/expand1x1[0][0]            \n",
            "__________________________________________________________________________________________________\n",
            "fire7/relu_expand3x3 (Activatio (None, 20, 20, 192)  0           fire7/expand3x3[0][0]            \n",
            "__________________________________________________________________________________________________\n",
            "fire7/concat (Concatenate)      (None, 20, 20, 384)  0           fire7/relu_expand1x1[0][0]       \n",
            "                                                                 fire7/relu_expand3x3[0][0]       \n",
            "__________________________________________________________________________________________________\n",
            "fire8/squeeze1x1 (Conv2D)       (None, 20, 20, 64)   24640       fire7/concat[0][0]               \n",
            "__________________________________________________________________________________________________\n",
            "fire8/relu_squeeze1x1 (Activati (None, 20, 20, 64)   0           fire8/squeeze1x1[0][0]           \n",
            "__________________________________________________________________________________________________\n",
            "fire8/expand1x1 (Conv2D)        (None, 20, 20, 256)  16640       fire8/relu_squeeze1x1[0][0]      \n",
            "__________________________________________________________________________________________________\n",
            "fire8/expand3x3 (Conv2D)        (None, 20, 20, 256)  147712      fire8/relu_squeeze1x1[0][0]      \n",
            "__________________________________________________________________________________________________\n",
            "fire8/relu_expand1x1 (Activatio (None, 20, 20, 256)  0           fire8/expand1x1[0][0]            \n",
            "__________________________________________________________________________________________________\n",
            "fire8/relu_expand3x3 (Activatio (None, 20, 20, 256)  0           fire8/expand3x3[0][0]            \n",
            "__________________________________________________________________________________________________\n",
            "fire8/concat (Concatenate)      (None, 20, 20, 512)  0           fire8/relu_expand1x1[0][0]       \n",
            "                                                                 fire8/relu_expand3x3[0][0]       \n",
            "__________________________________________________________________________________________________\n",
            "fire9/squeeze1x1 (Conv2D)       (None, 20, 20, 64)   32832       fire8/concat[0][0]               \n",
            "__________________________________________________________________________________________________\n",
            "fire9/relu_squeeze1x1 (Activati (None, 20, 20, 64)   0           fire9/squeeze1x1[0][0]           \n",
            "__________________________________________________________________________________________________\n",
            "fire9/expand1x1 (Conv2D)        (None, 20, 20, 256)  16640       fire9/relu_squeeze1x1[0][0]      \n",
            "__________________________________________________________________________________________________\n",
            "fire9/expand3x3 (Conv2D)        (None, 20, 20, 256)  147712      fire9/relu_squeeze1x1[0][0]      \n",
            "__________________________________________________________________________________________________\n",
            "fire9/relu_expand1x1 (Activatio (None, 20, 20, 256)  0           fire9/expand1x1[0][0]            \n",
            "__________________________________________________________________________________________________\n",
            "fire9/relu_expand3x3 (Activatio (None, 20, 20, 256)  0           fire9/expand3x3[0][0]            \n",
            "__________________________________________________________________________________________________\n",
            "fire9/concat (Concatenate)      (None, 20, 20, 512)  0           fire9/relu_expand1x1[0][0]       \n",
            "                                                                 fire9/relu_expand3x3[0][0]       \n",
            "==================================================================================================\n",
            "Total params: 722,496\n",
            "Trainable params: 722,496\n",
            "Non-trainable params: 0\n",
            "__________________________________________________________________________________________________\n"
          ],
          "name": "stdout"
        }
      ]
    },
    {
      "cell_type": "code",
      "metadata": {
        "id": "q97mYfupmLyB",
        "colab_type": "code",
        "outputId": "5a495941-b5d7-48dc-852e-3d0d33deb722",
        "colab": {
          "base_uri": "https://localhost:8080/",
          "height": 34
        }
      },
      "source": [
        "# verbose=1)\n",
        "print(model_name)\n",
        "# save the model for later use\n",
        "model.save( model_name )\n",
        "# score = model.evaluate(np.array(data), np.array(labels))\n",
        "# print(score)"
      ],
      "execution_count": 0,
      "outputs": [
        {
          "output_type": "stream",
          "text": [
            "/content/drive/My Drive/ML Mofos SMR/colab_files/models/image_data_all_inbalanced_split_sq350_e465_tb20_vb20_aug-hor-rotran20.h5\n"
          ],
          "name": "stdout"
        }
      ]
    },
    {
      "cell_type": "code",
      "metadata": {
        "id": "o-rKwUWOvnWm",
        "colab_type": "code",
        "colab": {}
      },
      "source": [
        "from keras.utils import plot_model\n",
        "plot_model(model, to_file=base_path+'model.png')"
      ],
      "execution_count": 0,
      "outputs": []
    },
    {
      "cell_type": "code",
      "metadata": {
        "id": "HF_kPyBjvroY",
        "colab_type": "code",
        "colab": {}
      },
      "source": [
        "drive.flush_and_unmount()\n",
        "print('All changes made in this colab session should now be visible in Drive.')"
      ],
      "execution_count": 0,
      "outputs": []
    }
  ]
}